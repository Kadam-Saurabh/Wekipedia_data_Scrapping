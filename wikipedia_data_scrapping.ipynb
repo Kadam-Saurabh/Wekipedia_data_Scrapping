{
 "cells": [
  {
   "cell_type": "code",
   "execution_count": 1,
   "id": "eb65b2c7",
   "metadata": {},
   "outputs": [],
   "source": [
    "import requests\n",
    "from bs4 import BeautifulSoup"
   ]
  },
  {
   "cell_type": "markdown",
   "id": "ca8521e6",
   "metadata": {},
   "source": [
    "# URL of the Wikipedia page"
   ]
  },
  {
   "cell_type": "code",
   "execution_count": 3,
   "id": "e9934d22",
   "metadata": {},
   "outputs": [],
   "source": [
    "url = \"https://en.wikipedia.org/wiki/List_of_active_Indian_military_aircraft\""
   ]
  },
  {
   "cell_type": "markdown",
   "id": "dd14acf7",
   "metadata": {},
   "source": [
    "# Send a GET request to the URL"
   ]
  },
  {
   "cell_type": "code",
   "execution_count": 4,
   "id": "96ea7986",
   "metadata": {},
   "outputs": [],
   "source": [
    "response = requests.get(url)"
   ]
  },
  {
   "cell_type": "code",
   "execution_count": 5,
   "id": "e43b206a",
   "metadata": {},
   "outputs": [],
   "source": [
    "soup = BeautifulSoup(response.content, 'html.parser')"
   ]
  },
  {
   "cell_type": "markdown",
   "id": "74be92e1",
   "metadata": {},
   "source": [
    "# Find the table on the page"
   ]
  },
  {
   "cell_type": "code",
   "execution_count": 6,
   "id": "43e17e5f",
   "metadata": {},
   "outputs": [],
   "source": [
    "table = soup.find('table', {'class': 'wikitable'})"
   ]
  },
  {
   "cell_type": "markdown",
   "id": "59ae03ea",
   "metadata": {},
   "source": [
    "# Extract aircraft details"
   ]
  },
  {
   "cell_type": "code",
   "execution_count": 7,
   "id": "1b8e3615",
   "metadata": {},
   "outputs": [],
   "source": [
    "aircraft_data = []"
   ]
  },
  {
   "cell_type": "markdown",
   "id": "3acb58b5",
   "metadata": {},
   "source": [
    "# Use a list comprehension to extract the rows"
   ]
  },
  {
   "cell_type": "code",
   "execution_count": 8,
   "id": "7dceed24",
   "metadata": {},
   "outputs": [],
   "source": [
    "rows = table.find_all('tr')[1:]  \n",
    "aircraft_data = [\n",
    "    {\n",
    "        'Name': cols[1].get_text(strip=True),\n",
    "        'Type': cols[2].get_text(strip=True),\n",
    "        'Origin': cols[3].get_text(strip=True),\n",
    "        'In Service': cols[4].get_text(strip=True),\n",
    "        'Operator': cols[5].get_text(strip=True)\n",
    "    }\n",
    "    for row in rows if (cols := row.find_all('td')) and len(cols) > 5\n",
    "]"
   ]
  },
  {
   "cell_type": "code",
   "execution_count": null,
   "id": "fc2b7344",
   "metadata": {},
   "outputs": [],
   "source": []
  },
  {
   "cell_type": "code",
   "execution_count": 9,
   "id": "3a2d30e7",
   "metadata": {},
   "outputs": [
    {
     "name": "stdout",
     "output_type": "stream",
     "text": [
      "{'Name': 'France', 'Type': 'Multirole', 'Origin': 'DH', 'In Service': '8[1]', 'Operator': ''}\n",
      "{'Name': 'India', 'Type': 'Multirole', 'Origin': 'Mk.1', 'In Service': '31[2][3]', 'Operator': ''}\n",
      "{'Name': 'Russia', 'Type': 'Multirole', 'Origin': 'Su-30MKI Flanker H', 'In Service': '259[8][9]', 'Operator': '12 more cleared.[10]'}\n",
      "{'Name': 'Soviet Union', 'Type': 'Multirole', 'Origin': 'Fulcrum', 'In Service': '53[1][11]', 'Operator': 'Including 12MiG-29UPG.'}\n",
      "{'Name': 'France', 'Type': 'Multirole', 'Origin': '-2000H', 'In Service': '37[1]', 'Operator': ''}\n",
      "{'Name': 'United Kingdom', 'Type': 'Attack', 'Origin': 'IB', 'In Service': '28[1]', 'Operator': 'Used for training.'}\n",
      "{'Name': 'Soviet Union', 'Type': 'Interceptor', 'Origin': 'MiG-21Bison', 'In Service': '40[12]', 'Operator': 'Being phased out.[13]'}\n",
      "{'Name': 'Brazil', 'Type': 'AEW&C', 'Origin': 'Netra Mk1', 'In Service': '3[14]', 'Operator': 'equipped with aNetra AEW&CS.'}\n",
      "{'Name': 'Soviet Union', 'Type': 'AEW&C', 'Origin': 'A-50EI', 'In Service': '3[14]', 'Operator': 'equipped with theEL/W-2090radar. 2 more planned.[15][16]'}\n",
      "{'Name': 'United States', 'Type': 'SIGINT/ELINT', 'Origin': '707-337C Phalcon', 'In Service': '1[14]', 'Operator': 'Operated byAviation Research Centre(ARC) ofR&AW.[17][18]'}\n",
      "{'Name': 'Soviet Union', 'Type': 'aerial refuelling', 'Origin': 'Il-78MKI', 'In Service': '6[14]', 'Operator': ''}\n",
      "{'Name': 'United States', 'Type': 'VIP transport', 'Origin': '777-300ER', 'In Service': '2[20]', 'Operator': 'Used asAir India Onefor presidential flight'}\n",
      "{'Name': 'United States', 'Type': 'VIP transport', 'Origin': '737-700', 'In Service': '3[21]', 'Operator': ''}\n",
      "{'Name': 'Brazil', 'Type': 'VIP transport', 'Origin': '', 'In Service': '4[22]', 'Operator': ''}\n",
      "{'Name': 'United States', 'Type': 'strategic airlifter', 'Origin': '', 'In Service': '11[14]', 'Operator': ''}\n",
      "{'Name': 'Soviet Union', 'Type': 'strategic airlifter', 'Origin': 'Il-76MD', 'In Service': '17[14]', 'Operator': ''}\n",
      "{'Name': 'United States', 'Type': 'tactical airlifter', 'Origin': 'C-130J-30[23]', 'In Service': '12[14]', 'Operator': ''}\n",
      "{'Name': 'Europe', 'Type': 'transport', 'Origin': 'A321-200', 'In Service': '4[14]', 'Operator': ''}\n",
      "{'Name': 'Soviet Union', 'Type': 'tactical airlifter', 'Origin': '', 'In Service': '103[14]', 'Operator': '53 are the32REvariant[24]'}\n",
      "{'Name': 'Spain', 'Type': 'tactical airlifter', 'Origin': 'C-295MW', 'In Service': '5[25]', 'Operator': '51 more on order -HS 748replacement[26]'}\n",
      "{'Name': 'United Kingdom', 'Type': 'tactical airlifter', 'Origin': '', 'In Service': '57[14]', 'Operator': 'To be replaced byEADS CASA C-295'}\n",
      "{'Name': 'Germany', 'Type': 'tactical airlifter', 'Origin': '228-201', 'In Service': '58[14]', 'Operator': 'license built byHAL[27]'}\n",
      "{'Name': 'United States', 'Type': 'attack', 'Origin': 'AH-64E', 'In Service': '22[14]', 'Operator': ''}\n",
      "{'Name': 'Russia', 'Type': 'attack', 'Origin': 'Mi-24/25/35', 'In Service': '15[14]', 'Operator': ''}\n",
      "{'Name': 'India', 'Type': 'attack', 'Origin': '', 'In Service': '10[28]', 'Operator': '66 on order[29]'}\n",
      "{'Name': 'India', 'Type': 'attack', 'Origin': '', 'In Service': '16', 'Operator': '50 on order.[30]'}\n",
      "{'Name': 'United States', 'Type': 'transport', 'Origin': 'CH-47F', 'In Service': '15[14]', 'Operator': ''}\n",
      "{'Name': 'Russia', 'Type': 'utility', 'Origin': 'Mi-17V-5', 'In Service': '222[14]', 'Operator': ''}\n",
      "{'Name': 'India', 'Type': 'utility', 'Origin': '', 'In Service': '95[14]', 'Operator': ''}\n",
      "{'Name': 'India', 'Type': 'utility', 'Origin': '', 'In Service': '', 'Operator': '6 on order[31]'}\n",
      "{'Name': 'France/India', 'Type': 'liaison', 'Origin': 'Chetak', 'In Service': '77[14]', 'Operator': 'license-built byHAL. A fleet of around 120 aircraft.[32]'}\n",
      "{'Name': 'United Kingdom', 'Type': 'Advanced trainer', 'Origin': 'Hawk 132', 'In Service': '101[14][34]', 'Operator': ''}\n",
      "{'Name': 'India', 'Type': 'Intermediate trainer', 'Origin': '', 'In Service': '77[14]', 'Operator': ''}\n",
      "{'Name': 'India', 'Type': 'Basic trainer', 'Origin': '', 'In Service': '', 'Operator': '70 on order[14]'}\n",
      "{'Name': 'Switzerland', 'Type': 'Basic trainer', 'Origin': 'Mk II', 'In Service': '75[14]', 'Operator': ''}\n",
      "{'Name': 'Slovenia', 'Type': 'Ab initio trainer', 'Origin': '', 'In Service': '72[35]', 'Operator': ''}\n",
      "{'Name': 'Israel', 'Type': 'surveillance', 'Origin': 'Heron 1', 'In Service': '47[36]', 'Operator': '[37]'}\n",
      "{'Name': 'Israel', 'Type': 'surveillance', 'Origin': 'Mk 2', 'In Service': '4[38][39]', 'Operator': ''}\n",
      "{'Name': 'United States', 'Type': 'Surveillance/Combat', 'Origin': 'SkyGuardian', 'In Service': '8 on order', 'Operator': '[40]'}\n",
      "{'Name': 'Israel', 'Type': 'surveillance', 'Origin': 'Mk. I / II', 'In Service': '', 'Operator': '[41]'}\n",
      "{'Name': 'India', 'Type': 'loitering munition', 'Origin': '', 'In Service': '100[42]', 'Operator': ''}\n",
      "{'Name': 'India', 'Type': 'loitering munition', 'Origin': '', 'In Service': '50+ on order', 'Operator': 'Developed byDRDOandKDSMultiple variants; Weight - 15 to 120 kg; Warhead - 2 to 40 kg; Max. Endurance - 12 hrs; Max. Range - 150 to 300 km; Canister launched and vertical take-off and landing (VTOL) variants[43][44]'}\n"
     ]
    }
   ],
   "source": [
    "for aircraft in aircraft_data:\n",
    "    print(aircraft)"
   ]
  },
  {
   "cell_type": "code",
   "execution_count": null,
   "id": "2cb28871",
   "metadata": {},
   "outputs": [],
   "source": []
  }
 ],
 "metadata": {
  "kernelspec": {
   "display_name": "Python 3 (ipykernel)",
   "language": "python",
   "name": "python3"
  },
  "language_info": {
   "codemirror_mode": {
    "name": "ipython",
    "version": 3
   },
   "file_extension": ".py",
   "mimetype": "text/x-python",
   "name": "python",
   "nbconvert_exporter": "python",
   "pygments_lexer": "ipython3",
   "version": "3.11.5"
  }
 },
 "nbformat": 4,
 "nbformat_minor": 5
}
